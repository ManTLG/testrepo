{
 "cells": [
  {
   "cell_type": "markdown",
   "metadata": {},
   "source": [
    "<center>\n",
    "    <img src=\"https://cf-courses-data.s3.us.cloud-object-storage.appdomain.cloud/IBMDeveloperSkillsNetwork-DS0105EN-SkillsNetwork/labs/Module2/images/SN_web_lightmode.png\" width=\"300\" alt=\"cognitiveclass.ai logo\">\n",
    "</center>\n"
   ]
  },
  {
   "cell_type": "markdown",
   "metadata": {},
   "source": [
    "#### Add your code below following the instructions given in the course\n"
   ]
  },
  {
   "cell_type": "markdown",
   "metadata": {},
   "source": [
    "# Data Science Overview\n",
    "\n",
    "Welcome to this comprehensive Jupyter notebook! In this notebook, we will explore key concepts, tools, and techniques used in the field of data science. "
   ]
  },
  {
   "cell_type": "markdown",
   "metadata": {},
   "source": [
    "# Introduction\n",
    "\n",
    "Welcome to this Jupyter notebook! In this notebook, we will explore various aspects of **Data Science** including key concepts, essential libraries, and practical applications. Whether you're just getting started or looking to deepen your knowledge, this notebook is designed to give you hands-on experience in the world of data science.\n",
    "\n",
    "### What you can expect:\n",
    "- **Overview of Data Science**: Understand the core principles and processes involved in data science.\n",
    "- **Popular Programming Languages**: Learn about the programming languages commonly used in data science.\n",
    "- **Essential Libraries**: Discover the libraries that are the backbone of data manipulation, analysis, and machine learning.\n",
    "- **Practical Examples**: Walk through code snippets and examples to reinforce your understanding.\n",
    "\n",
    "Let's dive in and begin exploring the fascinating world of data science!\n"
   ]
  },
  {
   "cell_type": "markdown",
   "metadata": {},
   "source": [
    "# Data Science Languages\n",
    "\n",
    "In the world of data science, several programming languages are widely used for tasks such as data analysis, machine learning, and data visualization. Here are some of the most popular ones:\n",
    "\n",
    "1. **Python**  \n",
    "   A versatile and widely-used programming language, Python has many libraries (e.g., Pandas, NumPy, Matplotlib, Scikit-learn) that are essential for data manipulation, analysis, and machine learning.\n",
    "\n",
    "2. **R**  \n",
    "   R is a statistical programming language commonly used for data analysis, statistical modeling, and visualization. It has a rich ecosystem of packages, such as ggplot2 and dplyr.\n",
    "\n",
    "3. **SQL**  \n",
    "   SQL (Structured Query Language) is used for managing and querying relational databases. It is an essential language for working with large datasets stored in databases.\n",
    "\n",
    "4. **Julia**  \n",
    "   Julia is known for its high performance in numerical computing. It's growing in popularity for machine learning and data science tasks that require speed and efficiency.\n",
    "\n",
    "5. **SAS**  \n",
    "   SAS (Statistical Analysis System) is a software suite used for advanced analytics, business intelligence, and data management. It is commonly used in industries like healthcare and finance.\n",
    "\n",
    "6. **MATLAB**  \n",
    "   MATLAB is primarily used for mathematical and statistical computing. It is popular in academia and industries that require advanced mathematical modeling.\n",
    "\n",
    "7. **Scala**  \n",
    "   Scala is often used in big data environments, particularly with frameworks like Apache Spark, to handle large-scale data processing and machine learning tasks.\n",
    "\n",
    "These languages form the core tools in the toolkit of data scientists, each with its strengths depending on the specific task at hand."
   ]
  },
  {
   "cell_type": "markdown",
   "metadata": {},
   "source": [
    "# Data Science Libraries\n",
    "\n",
    "Data science relies on powerful libraries that help streamline tasks such as data analysis, machine learning, and visualization. Here are some of the most widely used libraries in the field:\n",
    "\n",
    "1. **Pandas**  \n",
    "   - A Python library used for data manipulation and analysis. It provides data structures like DataFrames that allow for easy handling of structured data.\n",
    "   \n",
    "2. **NumPy**  \n",
    "   - A fundamental library for numerical computing in Python. It provides support for large multi-dimensional arrays and matrices, along with mathematical functions to operate on these arrays.\n",
    "   \n",
    "3. **Matplotlib**  \n",
    "   - A popular Python plotting library for creating static, interactive, and animated visualizations. It works well for creating a wide variety of plots like line charts, histograms, and scatter plots.\n",
    "\n",
    "4. **Seaborn**  \n",
    "   - Built on top of Matplotlib, Seaborn is a Python library for statistical data visualization. It provides a high-level interface for drawing attractive and informative statistical graphics.\n",
    "\n",
    "5. **Scikit-learn**  \n",
    "   - A machine learning library for Python that provides simple and efficient tools for data mining and data analysis. It includes algorithms for classification, regression, clustering, and dimensionality reduction.\n",
    "\n",
    "6. **TensorFlow**  \n",
    "   - An open-source library developed by Google for deep learning and neural network models. It provides tools for both research and production environments, and is widely used in natural language processing (NLP) and computer vision.\n",
    "\n",
    "7. **Keras**  \n",
    "   - A high-level neural networks API, Keras runs on top of TensorFlow and simplifies building deep learning models. It is user-friendly and often used in rapid prototyping.\n",
    "\n",
    "8. **PyTorch**  \n",
    "   - An open-source machine learning library for deep learning and neural networks. Developed by Facebook, PyTorch is known for its flexibility and dynamic computation graph, making it popular among researchers.\n",
    "\n",
    "9. **SciPy**  \n",
    "   - A Python library used for scientific and technical computing. It builds on NumPy and provides a collection of algorithms for optimization, integration, interpolation, eigenvalue problems, and other advanced math functions.\n",
    "\n",
    "10. **Plotly**  \n",
    "    - A library for creating interactive web-based visualizations. It supports a wide range of chart types, including 3D plots, and integrates well with web applications and dashboards.\n",
    "\n",
    "11. **XGBoost**  \n",
    "    - A powerful library for gradient boosting, commonly used in machine learning competitions. It is highly efficient, scalable, and often used for structured/tabular data.\n",
    "\n",
    "12. **NLTK**  \n",
    "    - The Natural Language Toolkit (NLTK) is a Python library for working with human language data (text). It provides tools for text processing, tokenization, and linguistic analysis.\n",
    "\n",
    "These libraries serve as the building blocks for modern data science projects, enabling professionals to handle data, build machine learning models, and visualize results efficiently."
   ]
  },
  {
   "cell_type": "markdown",
   "metadata": {
    "jp-MarkdownHeadingCollapsed": true
   },
   "source": [
    "# Data Science Tools\n",
    "\n",
    "The following table lists some of the most widely used tools in the field of data science, categorized by their primary function:\n",
    "\n",
    "| Tool          | Category               | Description                                                      |\n",
    "|---------------|------------------------|------------------------------------------------------------------|\n",
    "| **Python**    | Programming Language   | A versatile language with powerful libraries like Pandas, NumPy, and Scikit-learn for data manipulation, analysis, and machine learning. |\n",
    "| **R**         | Programming Language   | A language designed for statistical analysis and data visualization, popular in academia and research. |\n",
    "| **Jupyter**   | IDE/Environment        | An open-source tool for interactive computing, widely used for running and sharing Python code in notebooks. |\n",
    "| **TensorFlow**| Machine Learning       | A popular open-source framework for deep learning, widely used for building and training neural networks. |\n",
    "| **Apache Spark** | Big Data Framework  | A fast and general-purpose cluster-computing system used for large-scale data processing and analytics. |\n",
    "| **SQL**       | Database Management    | A standard language for managing and querying relational databases. Essential for working with structured data. |\n",
    "| **Tableau**   | Data Visualization     | A powerful tool for creating interactive and shareable visualizations from complex datasets. |\n",
    "| **Power BI**  | Data Visualization     | A business analytics tool by Microsoft for transforming raw data into insightful visualizations and reports. |\n",
    "| **Excel**     | Spreadsheet Tool       | A widely-used tool for data analysis, with features for data cleaning, basic analysis, and visualization. |\n",
    "| **Hadoop**    | Big Data Framework     | An open-source framework for distributed storage and processing of large datasets across clusters of computers. |\n",
    "\n",
    "These tools are foundational to data science and help data scientists analyze data, create models, visualize insights, and manage large datasets effectively."
   ]
  },
  {
   "cell_type": "markdown",
   "metadata": {},
   "source": [
    "# Arithmetic Expression Examples\n",
    "\n",
    "In data science and programming, arithmetic expressions are essential for performing calculations, data manipulation, and analysis. Below, we'll explore some basic arithmetic operations and provide examples of how they can be used.\n",
    "\n",
    "### Common Arithmetic Operations:\n",
    "1. **Addition (`+`)**: Adds two numbers.\n",
    "2. **Subtraction (`-`)**: Subtracts one number from another.\n",
    "3. **Multiplication (`*`)**: Multiplies two numbers.\n",
    "4. **Division (`/`)**: Divides one number by another.\n",
    "5. **Exponentiation (`**`)**: Raises a number to the power of another.\n",
    "6. **Modulus (`%`)**: Returns the remainder of a division operation.\n",
    "\n",
    "### Example Expressions:\n",
    "- **Addition**: `5 + 3 = 8`\n",
    "- **Subtraction**: `10 - 4 = 6`\n",
    "- **Multiplication**: `6 * 7 = 42`\n",
    "- **Division**: `15 / 3 = 5`\n",
    "- **Exponentiation**: `2 ** 3 = 8`\n",
    "- **Modulus**: `10 % 3 = 1`\n",
    "\n",
    "These basic arithmetic expressions form the foundation for more complex operations and are frequently used in data science calculations, statistical analysis, and machine learning algorithms."
   ]
  },
  {
   "cell_type": "code",
   "execution_count": 5,
   "metadata": {},
   "outputs": [
    {
     "name": "stdout",
     "output_type": "stream",
     "text": [
      "The result of multiplying 5 and 3 is: 15\n",
      "The result of adding 5 and 3 is: 8\n"
     ]
    }
   ],
   "source": [
    "# Multiplying and Adding Numbers\n",
    "\n",
    "a = 5\n",
    "b = 3\n",
    "\n",
    "# Perform multiplication and addition\n",
    "c = a * b\n",
    "d = a + b\n",
    "\n",
    "# Display the results\n",
    "print(f\"The result of multiplying {a} and {b} is: {c}\")\n",
    "print(f\"The result of adding {a} and {b} is: {d}\")"
   ]
  },
  {
   "cell_type": "code",
   "execution_count": 6,
   "metadata": {},
   "outputs": [
    {
     "name": "stdout",
     "output_type": "stream",
     "text": [
      "120 in hours is 2.0\n"
     ]
    }
   ],
   "source": [
    "# Converting minutes into hours\n",
    "\n",
    "minutes = 120\n",
    "\n",
    "hours = minutes / 60\n",
    "\n",
    "print(f\"{minutes} in hours is {hours}\")"
   ]
  },
  {
   "cell_type": "markdown",
   "metadata": {},
   "source": [
    "# Objectives\n",
    "\n",
    "In this notebook, we aim to achieve the following objectives:\n",
    "\n",
    "1. **Understand basic arithmetic operations**: Learn how to perform common arithmetic calculations like addition, multiplication, subtraction, and division.\n",
    "2. **Explore data science tools**: Get familiar with some of the most widely used tools in data science.\n",
    "3. **Learn about data science libraries**: Understand the key libraries in Python for data analysis, machine learning, and visualization.\n",
    "4. **Practice writing and running code**: Gain hands-on experience with code examples that demonstrate key concepts.\n",
    "5. **Work with real-world data**: Apply the skills and tools learned to analyze and interpret actual datasets.\n",
    "\n",
    "Let's get started with these exciting objectives!"
   ]
  },
  {
   "cell_type": "markdown",
   "metadata": {},
   "source": [
    "# Author\n",
    "\n",
    "This notebook was created by **Manikantan Ajit Menon**."
   ]
  }
 ],
 "metadata": {
  "kernelspec": {
   "display_name": "Python 3 (ipykernel)",
   "language": "python",
   "name": "python3"
  },
  "language_info": {
   "codemirror_mode": {
    "name": "ipython",
    "version": 3
   },
   "file_extension": ".py",
   "mimetype": "text/x-python",
   "name": "python",
   "nbconvert_exporter": "python",
   "pygments_lexer": "ipython3",
   "version": "3.12.8"
  }
 },
 "nbformat": 4,
 "nbformat_minor": 4
}
